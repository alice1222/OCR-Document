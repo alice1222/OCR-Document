{
 "cells": [
  {
   "cell_type": "code",
   "execution_count": 1,
   "metadata": {},
   "outputs": [],
   "source": [
    "from pyimagesearch.alignment import align_images\n",
    "from collections import namedtuple\n",
    "import pytesseract\n",
    "import argparse\n",
    "import imutils\n",
    "import cv2\n",
    "from  matplotlib import pyplot as plt\n",
    "import os"
   ]
  },
  {
   "cell_type": "code",
   "execution_count": 2,
   "metadata": {},
   "outputs": [],
   "source": [
    "def cleanup_text(text):\n",
    "    # strip out non-ASCII text so we can draw the text on the image\n",
    "    # using OpenCV\n",
    "    return \"\".join([c if ord(c) < 128 else \"\" for c in text]).strip()"
   ]
  },
  {
   "cell_type": "code",
   "execution_count": 3,
   "metadata": {},
   "outputs": [],
   "source": [
    "OCRLocation = namedtuple(\"OCRLocation\", [\"id\", \"bbox\",\"filter_keywords\"])"
   ]
  },
  {
   "cell_type": "code",
   "execution_count": 4,
   "metadata": {},
   "outputs": [],
   "source": [
    "OCR_LOCATIONS = [\n",
    "    OCRLocation(\"step1_first_name\", (195, 1072, 426, 50),\n",
    "        [\"middle\", \"initial\", \"first\", \"name\"]),\n",
    "    OCRLocation(\"Phone_O\", (195, 1128, 222, 47),\n",
    "        [\"number\"]),\n",
    "    OCRLocation(\"Phone_H\", (420, 1121, 244, 52),\n",
    "        [\"number\"]),\n",
    "    OCRLocation(\"cellphone\", (934, 1122, 245, 55),\n",
    "        [\"number\"]),\n",
    "    OCRLocation(\"sign\", (256, 1222, 215, 74),\n",
    "        [\"number\"]),\n",
    "]"
   ]
  },
  {
   "cell_type": "code",
   "execution_count": 5,
   "metadata": {},
   "outputs": [
    {
     "name": "stdout",
     "output_type": "stream",
     "text": [
      "[INFO] loading images...\n"
     ]
    }
   ],
   "source": [
    "print(\"[INFO] loading images...\")\n",
    "image = cv2.imread(\"Test.png\")\n",
    "template = cv2.imread(\"Form.jpg\")\n",
    "#plt.imshow(image)\n",
    "#plt.imshow(template)"
   ]
  },
  {
   "cell_type": "code",
   "execution_count": 6,
   "metadata": {},
   "outputs": [
    {
     "name": "stdout",
     "output_type": "stream",
     "text": [
      "[INFO] aligning images...\n"
     ]
    }
   ],
   "source": [
    "print(\"[INFO] aligning images...\")\n",
    "aligned = align_images(image, template)"
   ]
  },
  {
   "cell_type": "code",
   "execution_count": 7,
   "metadata": {},
   "outputs": [
    {
     "name": "stdout",
     "output_type": "stream",
     "text": [
      "[INFO] OCR'ing document...\n"
     ]
    }
   ],
   "source": [
    "print(\"[INFO] OCR'ing document...\")\n",
    "parsingResults = []"
   ]
  },
  {
   "cell_type": "code",
   "execution_count": 8,
   "metadata": {},
   "outputs": [],
   "source": [
    "j=0\n",
    "save_filename='image'\n",
    "data='output'\n",
    "def saveImage(image,SaveAddress,num):\n",
    "    address= SaveAddress+data+'_'+str(num).zfill(4)+'.jpg'\n",
    "    cv2.imwrite(address,image)"
   ]
  },
  {
   "cell_type": "code",
   "execution_count": 9,
   "metadata": {},
   "outputs": [],
   "source": [
    "for loc in OCR_LOCATIONS:\n",
    "# extract the OCR ROI from the aligned image\n",
    "    #print(loc)\n",
    "    (x, y, w, h) = loc.bbox\n",
    "    roi = aligned[y:y + h, x:x + w]\n",
    "# OCR the ROI using Tesseract\n",
    "    rgb = cv2.cvtColor(roi, cv2.COLOR_BGR2RGB)\n",
    "    j+=1\n",
    "    saveImage(rgb,save_filename,j)\n",
    "    #text = pytesseract.image_to_string(rgb)"
   ]
  },
  {
   "cell_type": "code",
   "execution_count": 10,
   "metadata": {},
   "outputs": [],
   "source": [
    "#(x, y, w, h) = OCR_LOCATIONS[2].bbox\n",
    "#print((x, y, w, h))\n",
    "#roi = aligned[y:y + h, x:x + w]\n",
    "#rgb = cv2.cvtColor(roi, cv2.COLOR_BGR2RGB)\n",
    "#text = pytesseract.image_to_string(rgb)\n",
    "#print(text)\n",
    "#plt.imshow(rgb)"
   ]
  },
  {
   "cell_type": "code",
   "execution_count": 23,
   "metadata": {},
   "outputs": [],
   "source": [
    "import argparse\n",
    "import json\n",
    "from typing import Tuple, List\n",
    "\n",
    "import cv2\n",
    "import editdistance\n",
    "from path import Path\n",
    "\n",
    "from tensorflow.python.framework import ops\n",
    "from tensorflow import keras\n",
    "\n",
    "from SimpleHTR.src.dataloader_iam import DataLoaderIAM, Batch\n",
    "from SimpleHTR.src.model import Model, DecoderType\n",
    "from SimpleHTR.src.preprocessor import Preprocessor"
   ]
  },
  {
   "cell_type": "code",
   "execution_count": 24,
   "metadata": {},
   "outputs": [],
   "source": [
    "class FilePaths:\n",
    "    \"\"\"Filenames and paths to data.\"\"\"\n",
    "    fn_char_list = 'charList.txt'\n",
    "    fn_summary = 'summary.json'\n",
    "    fn_corpus = 'corpus.txt'"
   ]
  },
  {
   "cell_type": "code",
   "execution_count": 25,
   "metadata": {},
   "outputs": [],
   "source": [
    "def get_img_height() -> int:\n",
    "    \"\"\"Fixed height for NN.\"\"\"\n",
    "    return 32"
   ]
  },
  {
   "cell_type": "code",
   "execution_count": 26,
   "metadata": {},
   "outputs": [],
   "source": [
    "def get_img_size(line_mode: bool = False) -> Tuple[int, int]:\n",
    "    \"\"\"Height is fixed for NN, width is set according to training mode (single words or text lines).\"\"\"\n",
    "    if line_mode:\n",
    "        return 256, get_img_height()\n",
    "    return 128, get_img_height()"
   ]
  },
  {
   "cell_type": "code",
   "execution_count": 27,
   "metadata": {},
   "outputs": [],
   "source": [
    "def write_summary(char_error_rates: List[float], word_accuracies: List[float]) -> None:\n",
    "    \"\"\"Writes training summary file for NN.\"\"\"\n",
    "    with open(FilePaths.fn_summary, 'w') as f:\n",
    "        json.dump({'charErrorRates': char_error_rates, 'wordAccuracies': word_accuracies}, f)"
   ]
  },
  {
   "cell_type": "code",
   "execution_count": 30,
   "metadata": {},
   "outputs": [],
   "source": [
    "def infer(model: Model, fn_img: Path) -> None:\n",
    "    \"\"\"Recognizes text in image provided by file path.\"\"\"\n",
    "    img = cv2.imread(fn_img, cv2.IMREAD_GRAYSCALE)\n",
    "    assert img is not None\n",
    "    preprocessor = Preprocessor(get_img_size(), dynamic_width=True, padding=16)\n",
    "    img = preprocessor.process_img(img)\n",
    "    batch = Batch([img], None, 1)\n",
    "    recognized, probability = model.infer_batch(batch, True)\n",
    "    print(f'Recognized: \"{recognized[0]}\"')\n",
    "    print(f'Probability: {probability[0]}')"
   ]
  },
  {
   "cell_type": "code",
   "execution_count": 34,
   "metadata": {},
   "outputs": [
    {
     "name": "stdout",
     "output_type": "stream",
     "text": [
      "WARNING:tensorflow:`tf.nn.rnn_cell.MultiRNNCell` is deprecated. This class is equivalent as `tf.keras.layers.StackedRNNCells`, and will be replaced by that in Tensorflow 2.0.\n",
      "Python: 3.7.3 (default, Mar 27 2019, 17:13:21) [MSC v.1915 64 bit (AMD64)]\n",
      "Tensorflow: 2.6.0\n",
      "Init with stored values from snapshot-13\n",
      "INFO:tensorflow:Restoring parameters from snapshot-13\n",
      "C:/Users/e1222/Documents/ocr-document/ocr-document/image/imageoutput_0.jpg\n",
      "Write dump of NN to file: ../dump/rnnOutput_0.csv\n",
      "Recognized: \"move\"\n",
      "Probability: 0.3282751739025116\n",
      "C:/Users/e1222/Documents/ocr-document/ocr-document/image/imageoutput_1.jpg\n",
      "Write dump of NN to file: ../dump/rnnOutput_0.csv\n",
      "Recognized: \"\" . nomiuating\"\n",
      "Probability: 0.13835062086582184\n",
      "C:/Users/e1222/Documents/ocr-document/ocr-document/image/imageoutput_2.jpg\n",
      "Write dump of NN to file: ../dump/rnnOutput_0.csv\n",
      "Recognized: \"orFam\"\n",
      "Probability: 0.00498551269993186\n",
      "C:/Users/e1222/Documents/ocr-document/ocr-document/image/imageoutput_3.jpg\n",
      "Write dump of NN to file: ../dump/rnnOutput_0.csv\n",
      "Recognized: \"tomorrew\"\n",
      "Probability: 0.21413789689540863\n",
      "C:/Users/e1222/Documents/ocr-document/ocr-document/image/imageoutput_4.jpg\n",
      "Write dump of NN to file: ../dump/rnnOutput_0.csv\n",
      "Recognized: \"any\"\n",
      "Probability: 0.6903836727142334\n"
     ]
    }
   ],
   "source": [
    "ops.reset_default_graph()\n",
    "decoder_mapping = {'bestpath': DecoderType.BestPath,\n",
    "                   'beamsearch': DecoderType.BeamSearch,\n",
    "                   'wordbeamsearch': DecoderType.WordBeamSearch}\n",
    "decoder_type = decoder_mapping['bestpath']\n",
    "model = Model(list(open(FilePaths.fn_char_list).read()), decoder_type, must_restore=True, dump='store_true')\n",
    "for i in range(5):\n",
    "    test_image='C:/Users/e1222/Documents/ocr-document/ocr-document/image/imageoutput_%d.jpg'%(i)\n",
    "    print(test_image)\n",
    "    infer(model, test_image)"
   ]
  },
  {
   "cell_type": "code",
   "execution_count": null,
   "metadata": {},
   "outputs": [],
   "source": []
  }
 ],
 "metadata": {
  "kernelspec": {
   "display_name": "Python 3",
   "language": "python",
   "name": "python3"
  },
  "language_info": {
   "codemirror_mode": {
    "name": "ipython",
    "version": 3
   },
   "file_extension": ".py",
   "mimetype": "text/x-python",
   "name": "python",
   "nbconvert_exporter": "python",
   "pygments_lexer": "ipython3",
   "version": "3.7.3"
  }
 },
 "nbformat": 4,
 "nbformat_minor": 2
}
