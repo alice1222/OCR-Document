{
 "cells": [
  {
   "cell_type": "code",
   "execution_count": 102,
   "metadata": {},
   "outputs": [],
   "source": [
    "from pyimagesearch.alignment import align_images\n",
    "from collections import namedtuple\n",
    "import pytesseract\n",
    "import argparse\n",
    "import imutils\n",
    "import cv2\n",
    "from  matplotlib import pyplot as plt"
   ]
  },
  {
   "cell_type": "code",
   "execution_count": 103,
   "metadata": {},
   "outputs": [],
   "source": [
    "def cleanup_text(text):\n",
    "    # strip out non-ASCII text so we can draw the text on the image\n",
    "    # using OpenCV\n",
    "    return \"\".join([c if ord(c) < 128 else \"\" for c in text]).strip()"
   ]
  },
  {
   "cell_type": "code",
   "execution_count": 104,
   "metadata": {},
   "outputs": [],
   "source": [
    "OCRLocation = namedtuple(\"OCRLocation\", [\"id\", \"bbox\",\"filter_keywords\"])"
   ]
  },
  {
   "cell_type": "code",
   "execution_count": 105,
   "metadata": {},
   "outputs": [],
   "source": [
    "OCR_LOCATIONS = [\n",
    "    OCRLocation(\"step1_first_name\", (105, 50, 312, 36),\n",
    "        [\"middle\", \"initial\", \"first\", \"name\"]),\n",
    "    OCRLocation(\"Phone_O\", (105, 86, 166, 40),\n",
    "        [\"number\"]),\n",
    "    OCRLocation(\"Phone_H\", (272, 86, 178, 39),\n",
    "        [\"number\"]),\n",
    "]"
   ]
  },
  {
   "cell_type": "code",
   "execution_count": 106,
   "metadata": {},
   "outputs": [
    {
     "name": "stdout",
     "output_type": "stream",
     "text": [
      "[INFO] loading images...\n"
     ]
    }
   ],
   "source": [
    "print(\"[INFO] loading images...\")\n",
    "image = cv2.imread(\"write_h.png\")\n",
    "template = cv2.imread(\"form.png\")\n",
    "#plt.imshow(image)\n",
    "#plt.imshow(template)"
   ]
  },
  {
   "cell_type": "code",
   "execution_count": 107,
   "metadata": {},
   "outputs": [
    {
     "name": "stdout",
     "output_type": "stream",
     "text": [
      "[INFO] aligning images...\n"
     ]
    }
   ],
   "source": [
    "print(\"[INFO] aligning images...\")\n",
    "aligned = align_images(image, template)"
   ]
  },
  {
   "cell_type": "code",
   "execution_count": 108,
   "metadata": {},
   "outputs": [
    {
     "name": "stdout",
     "output_type": "stream",
     "text": [
      "[INFO] OCR'ing document...\n"
     ]
    }
   ],
   "source": [
    "print(\"[INFO] OCR'ing document...\")\n",
    "parsingResults = []"
   ]
  },
  {
   "cell_type": "code",
   "execution_count": 115,
   "metadata": {},
   "outputs": [
    {
     "name": "stdout",
     "output_type": "stream",
     "text": [
      "OCRLocation(id='step1_first_name', bbox=(105, 50, 312, 36), filter_keywords=['middle', 'initial', 'first', 'name'])\n",
      "OCRLocation(id='Phone_O', bbox=(105, 86, 166, 40), filter_keywords=['number'])\n",
      "OCRLocation(id='Phone_H', bbox=(272, 86, 178, 39), filter_keywords=['number'])\n"
     ]
    },
    {
     "data": {
      "text/plain": [
       "<matplotlib.image.AxesImage at 0x185c571d278>"
      ]
     },
     "execution_count": 115,
     "metadata": {},
     "output_type": "execute_result"
    },
    {
     "data": {
      "image/png": "[encoded data removed]",
      "text/plain": [
       "<Figure size 432x288 with 1 Axes>"
      ]
     },
     "metadata": {
      "needs_background": "light"
     },
     "output_type": "display_data"
    }
   ],
   "source": [
    "for loc in OCR_LOCATIONS:\n",
    "# extract the OCR ROI from the aligned image\n",
    "    print(loc)\n",
    "    (x, y, w, h) = loc.bbox\n",
    "    #print((x, y, w, h))\n",
    "    roi = aligned[y:y + h, x:x + w]\n",
    "    #plt.imshow(roi)\n",
    "# OCR the ROI using Tesseract\n",
    "    rgb = cv2.cvtColor(roi, cv2.COLOR_BGR2RGB)\n",
    "    #plt.imshow(rgb)\n",
    "    #text = pytesseract.image_to_string(rgb)\n",
    "    #print(text)\n",
    "cv2.imwrite('output.jpg',rgb)\n",
    "plt.imshow(rgb)"
   ]
  },
  {
   "cell_type": "code",
   "execution_count": 151,
   "metadata": {},
   "outputs": [],
   "source": [
    "import argparse\n",
    "import json\n",
    "from typing import Tuple, List\n",
    "\n",
    "import cv2\n",
    "import editdistance\n",
    "from path import Path\n",
    "\n",
    "from tensorflow.python.framework import ops\n",
    "ops.reset_default_graph()\n",
    "\n",
    "from SimpleHTR.src.dataloader_iam import DataLoaderIAM, Batch\n",
    "from SimpleHTR.src.model import Model, DecoderType\n",
    "from SimpleHTR.src.preprocessor import Preprocessor"
   ]
  },
  {
   "cell_type": "code",
   "execution_count": 152,
   "metadata": {},
   "outputs": [],
   "source": [
    "class FilePaths:\n",
    "    \"\"\"Filenames and paths to data.\"\"\"\n",
    "    fn_char_list = 'charList.txt'\n",
    "    fn_summary = 'summary.json'\n",
    "    fn_corpus = 'corpus.txt'"
   ]
  },
  {
   "cell_type": "code",
   "execution_count": 153,
   "metadata": {},
   "outputs": [],
   "source": [
    "def get_img_height() -> int:\n",
    "    \"\"\"Fixed height for NN.\"\"\"\n",
    "    return 32"
   ]
  },
  {
   "cell_type": "code",
   "execution_count": 154,
   "metadata": {},
   "outputs": [],
   "source": [
    "def get_img_size(line_mode: bool = False) -> Tuple[int, int]:\n",
    "    \"\"\"Height is fixed for NN, width is set according to training mode (single words or text lines).\"\"\"\n",
    "    if line_mode:\n",
    "        return 256, get_img_height()\n",
    "    return 128, get_img_height()"
   ]
  },
  {
   "cell_type": "code",
   "execution_count": 155,
   "metadata": {},
   "outputs": [],
   "source": [
    "def write_summary(char_error_rates: List[float], word_accuracies: List[float]) -> None:\n",
    "    \"\"\"Writes training summary file for NN.\"\"\"\n",
    "    with open(FilePaths.fn_summary, 'w') as f:\n",
    "        json.dump({'charErrorRates': char_error_rates, 'wordAccuracies': word_accuracies}, f)"
   ]
  },
  {
   "cell_type": "code",
   "execution_count": 156,
   "metadata": {},
   "outputs": [],
   "source": [
    "def infer(model: Model, fn_img: Path) -> None:\n",
    "    \"\"\"Recognizes text in image provided by file path.\"\"\"\n",
    "    img = cv2.imread(fn_img, cv2.IMREAD_GRAYSCALE)\n",
    "    assert img is not None\n",
    "    preprocessor = Preprocessor(get_img_size(), dynamic_width=True, padding=16)\n",
    "    img = preprocessor.process_img(img)\n",
    "\n",
    "    batch = Batch([img], None, 1)\n",
    "    recognized, probability = model.infer_batch(batch, True)\n",
    "    print(f'Recognized: \"{recognized[0]}\"')\n",
    "    print(f'Probability: {probability[0]}')\n",
    "    plt.imshow(img)\n",
    "    cv2.imwrite('output.jpg',img)"
   ]
  },
  {
   "cell_type": "code",
   "execution_count": 157,
   "metadata": {},
   "outputs": [
    {
     "name": "stdout",
     "output_type": "stream",
     "text": [
      "WARNING:tensorflow:`tf.nn.rnn_cell.MultiRNNCell` is deprecated. This class is equivalent as `tf.keras.layers.StackedRNNCells`, and will be replaced by that in Tensorflow 2.0.\n",
      "Python: 3.7.3 (default, Mar 27 2019, 17:13:21) [MSC v.1915 64 bit (AMD64)]\n",
      "Tensorflow: 2.6.0\n",
      "Init with stored values from snapshot-13\n",
      "INFO:tensorflow:Restoring parameters from snapshot-13\n",
      "Write dump of NN to file: ../dump/rnnOutput_0.csv\n",
      "Recognized: \"or work on line level\"\n",
      "Probability: 0.6674364805221558\n"
     ]
    },
    {
     "data": {
      "image/png": "[encoded data removed]",
      "text/plain": [
       "<Figure size 432x288 with 1 Axes>"
      ]
     },
     "metadata": {
      "needs_background": "light"
     },
     "output_type": "display_data"
    }
   ],
   "source": [
    "decoder_mapping = {'bestpath': DecoderType.BestPath,\n",
    "                   'beamsearch': DecoderType.BeamSearch,\n",
    "                   'wordbeamsearch': DecoderType.WordBeamSearch}\n",
    "decoder_type = decoder_mapping['bestpath']\n",
    "model = Model(list(open(FilePaths.fn_char_list).read()), decoder_type, must_restore=True, dump='store_true')\n",
    "test_image='line.png'\n",
    "#test_image= cv2.imread('output.jpg', cv2.IMREAD_COLOR)\n",
    "#plt.imshow(test_image)\n",
    "infer(model, test_image)"
   ]
  },
  {
   "cell_type": "code",
   "execution_count": null,
   "metadata": {},
   "outputs": [],
   "source": []
  }
 ],
 "metadata": {
  "kernelspec": {
   "display_name": "Python 3",
   "language": "python",
   "name": "python3"
  },
  "language_info": {
   "codemirror_mode": {
    "name": "ipython",
    "version": 3
   },
   "file_extension": ".py",
   "mimetype": "text/x-python",
   "name": "python",
   "nbconvert_exporter": "python",
   "pygments_lexer": "ipython3",
   "version": "3.7.3"
  }
 },
 "nbformat": 4,
 "nbformat_minor": 2
}
